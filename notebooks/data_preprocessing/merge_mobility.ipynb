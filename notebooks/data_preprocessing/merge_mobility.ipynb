{
 "metadata": {
  "language_info": {
   "codemirror_mode": {
    "name": "ipython",
    "version": 3
   },
   "file_extension": ".py",
   "mimetype": "text/x-python",
   "name": "python",
   "nbconvert_exporter": "python",
   "pygments_lexer": "ipython3",
   "version": "3.8.5"
  },
  "orig_nbformat": 4,
  "kernelspec": {
   "name": "python3",
   "display_name": "Python 3.8.5 64-bit ('.venv': venv)"
  },
  "interpreter": {
   "hash": "634f198cfc19abd31cd421fec268246f8164e3308535dc60f48748ff21467167"
  }
 },
 "nbformat": 4,
 "nbformat_minor": 2,
 "cells": [
  {
   "cell_type": "code",
   "execution_count": null,
   "metadata": {},
   "outputs": [],
   "source": [
    "import pandas as pd\n",
    "import numpy as np\n",
    "\n",
    "path = \"../../d/Global_Mobility_Report.csv.xz\"\n",
    "df = pd.read_csv(path, parse_dates=[\"date\"])"
   ]
  },
  {
   "cell_type": "code",
   "execution_count": null,
   "metadata": {},
   "outputs": [],
   "source": [
    "subs = {\"Czechia\": 'Czech', \"United Kingdom\": \"England\"}\n",
    "\n",
    "# Filter to sub-national \n",
    "subnational_row = lambda df : df[df.sub_region_1.notna() & df.sub_region_2.isna() & df.metro_area.isna()]\n",
    "snat = subnational_row(df)\n",
    "snat = snat.drop(\"parks_percent_change_from_baseline\", axis=1)\n",
    "snat = snat.drop([\"country_region_code\", \"sub_region_2\", \"metro_area\", \"iso_3166_2_code\", \"census_fips_code\", \"place_id\"], axis=1)\n",
    "\n",
    "snat[\"country_region\"] = snat[\"country_region\"].replace(subs)\n",
    "snat.rename(columns={\"date\":\"Date\", \"country_region\": \"Country\", \"sub_region_1\": \"Area\"}, inplace=True)\n",
    "#nat[\"Date\"] = pd.to_datetime(nat[\"Date\"], utc=True)\n",
    "snat.set_index([\"Country\", \"Area\", \"Date\"])\n",
    "\n",
    "# Filter to national \n",
    "subnational_row = lambda df : df[df.sub_region_1.isna() & df.sub_region_2.isna() & df.metro_area.isna()]\n",
    "nat = subnational_row(df)\n",
    "nat = nat.drop(\"parks_percent_change_from_baseline\", axis=1)\n",
    "nat = nat.drop([\"country_region_code\", \"sub_region_2\", \"metro_area\", \"iso_3166_2_code\", \"census_fips_code\", \"place_id\"], axis=1)\n",
    "\n",
    "nat[\"country_region\"] = nat[\"country_region\"].replace(subs)\n",
    "nat.rename(columns={\"date\":\"Date\", \"country_region\": \"Country\", \"sub_region_1\": \"Area\"}, inplace=True)\n",
    "#nat[\"Date\"] = pd.to_datetime(nat[\"Date\"], utc=True)\n",
    "nat.set_index([\"Country\", \"Area\", \"Date\"])\n",
    "len(nat), len(snat)\n"
   ]
  },
  {
   "cell_type": "code",
   "execution_count": null,
   "metadata": {},
   "outputs": [],
   "source": [
    "dfb = pd.read_csv(\"../../d/modelSharma_dataSharma.csv\", parse_dates=[\"Date\"])\n",
    "\n",
    "dfb = dfb.merge(nat, on=[\"Country\", \"Date\"], how=\"left\", suffixes=('', '_'))\n",
    "#dfb.fillna(0.0, inplace=True)\n",
    "MOBS = {\n",
    "    \"retail_and_recreation_percent_change_from_baseline\": \"Recre\",\n",
    "    \"grocery_and_pharmacy_percent_change_from_baseline\": \"Groc\",\n",
    "    \"transit_stations_percent_change_from_baseline\": \"Trans\",\n",
    "    \"workplaces_percent_change_from_baseline\": \"Work\",\n",
    "    \"residential_percent_change_from_baseline\": \"Resid\",\n",
    "    }\n",
    "mobility = np.mean([np.float32(dfb[m]) for m in MOBS], axis=0)\n",
    "mobility\n",
    "print(sum(dfb[\"retail_and_recreation_percent_change_from_baseline\"].isna()), len(dfb))\n",
    "dfb.groupby(\"Country\").apply(lambda d: sum(d[\"retail_and_recreation_percent_change_from_baseline\"].isna()) / len(d))\n",
    "dfb.drop(MOBS, inplace=True, axis=1)\n",
    "dfb.drop([\"Area_\"], inplace=True, axis=1)\n",
    "dfb[\"Mobility decrease\"] = mobility / -100.0\n",
    "dfb.to_csv(f\"../../d/modelSharma_dataSharma_countryMobility_{''.join(MOBS.values())}.csv\", index=False)\n",
    "dfb"
   ]
  },
  {
   "cell_type": "code",
   "execution_count": null,
   "metadata": {},
   "outputs": [],
   "source": []
  },
  {
   "cell_type": "code",
   "execution_count": null,
   "metadata": {},
   "outputs": [],
   "source": []
  }
 ]
}
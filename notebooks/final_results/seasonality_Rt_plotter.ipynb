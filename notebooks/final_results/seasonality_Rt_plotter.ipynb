{
 "cells": [
  {
   "cell_type": "code",
   "execution_count": null,
   "metadata": {},
   "outputs": [],
   "source": [
    "%load_ext autoreload\n",
    "%autoreload 2\n",
    "\n",
    "import sys\n",
    "sys.path.append(\"../../\") \n",
    "\n",
    "import os\n",
    "import yaml\n",
    "import numpy as np\n",
    "import textwrap\n",
    "import json\n",
    "\n",
    "import seaborn as sns\n",
    "import matplotlib.pyplot as plt\n",
    "plt.rcParams['pdf.fonttype'] = 42\n",
    "import matplotlib.gridspec as gridspec\n",
    "plt.rcParams[\"font.family\"] = \"Optima\"\n",
    "plt.rcParams[\"font.weight\"] = \"light\"\n",
    "\n",
    "import matplotlib\n",
    "import seaborn as sns\n",
    "%matplotlib inline\n",
    "\n",
    "import arviz as az\n",
    "\n",
    "from epimodel import preprocess_data, run_model, EpidemiologicalParameters\n",
    "from epimodel.plotting.intervention_plots import combine_npi_samples\n",
    "\n",
    "plt.rc('text', usetex=True)\n",
    "plt.rc('font', family='serif')\n"
   ]
  },
  {
   "cell_type": "code",
   "execution_count": null,
   "metadata": {},
   "outputs": [],
   "source": [
    "def load_jsons(paths, vars=(\"seasonality_beta1\", \"seasonality_max_R_day\")):\n",
    "    traces = []\n",
    "    df = pd.DataFrame()\n",
    "    for fn in paths:\n",
    "        with open('../../'+fn) as f:\n",
    "            d = json.load(f)\n",
    "            d[\"MODEL\"] = re.search('model(.*)_', d['model_config_name']).groups()[0]\n",
    "            d[\"DATA\"] = re.search('data(.*)', d['model_config_name']).groups()[0]\n",
    "            d[\"LABEL\"] = f\"Seasonal {d['MODEL']} et al.\" #\\n{d['DATA']} data\" # NB: Change for 2x2 plots\n",
    "            if d['DATA'] == \"BraunerTE\":\n",
    "                d[\"LABEL\"] += \"\\n(temperate Europe)\"\n",
    "            print(f\"Loaded {d['MODEL']} model, {d['DATA']} data. Rhat: {d['rhat']}\")\n",
    "            traces.append(d)\n",
    "\n",
    "            cols = {v: np.array(d[v]) for v in vars}\n",
    "            cols[\"label\"] = d[\"LABEL\"]\n",
    "            df = df.append(pd.DataFrame(cols), ignore_index=True)\n",
    "\n",
    "    cols = {v: np.array(df[v].values) for v in vars}\n",
    "    cols[\"label\"] = \"Combined\"\n",
    "    df = df.append(pd.DataFrame(cols), ignore_index=True)\n",
    "    return traces, df\n"
   ]
  },
  {
   "cell_type": "code",
   "execution_count": null,
   "metadata": {},
   "outputs": [],
   "source": [
    "beta1_SRC=[\n",
    "    \"sensitivity_final/default_cmodelSharma_dataSharma/seasonality_basic_R_prior/20210429-044743-70284_summary.json\",\n",
    "    # NB: Change for 2x2 plots\n",
    "    #\"sensitivity_final/modelBrauner_dataSharma/seasonality_basic_R_prior/complex_seasonal_2021-04-30-025219_pid22787_summary.json\",\n",
    "    #\"sensitivity_final/default_cmodelSharma_dataBraunerTE/seasonality_basic_R_prior/20210430-084421-36555_summary.json\",\n",
    "    \"sensitivity_final/modelBrauner_dataBraunerTE/seasonality_basic_R_prior/complex_seasonal_2021-04-30-012232_pid18922_summary.json\",\n",
    "    ]\n",
    "\n",
    "traces, df1 = load_jsons(beta1_SRC)\n",
    "df1[\"top-to-trough\"] = 100*(1-(1-df1[\"seasonality_beta1\"]) / (1+df1[\"seasonality_beta1\"]))\n",
    "df1[\"gamma_percent\"] = 100*df1[\"seasonality_beta1\"]\n",
    "df1[\"Seasonality peak\"] = \"January 1\""
   ]
  },
  {
   "cell_type": "code",
   "execution_count": null,
   "metadata": {},
   "outputs": [],
   "source": [
    "Rt0_default = np.load(\"Rt0_default.npz\")['arr_0']\n",
    "Rt0_default.shape\n",
    "\n",
    "plt.close()\n",
    "plt.figure(figsize=(4, 4), dpi=150)\n",
    "\n",
    "days = np.arange(-365*0.5, 365*0.25, 1.0)\n",
    "gamma_q_0 = np.median(1.0 + df1[df1.label==\"Combined\"].seasonality_beta1.values * np.cos(2 * np.pi / 365.0 * (days.reshape((-1, 1)) + 1)), axis=1)\n",
    "R0s = np.median(Rt0_default, axis=(0, 1)) / gamma_q_0[int(213-365-days[0]):][:Rt0_default.shape[-1]]\n",
    "R0 = np.exp(np.mean(np.log(R0s)))\n",
    "\n",
    "x = np.arange(Rt0_default.shape[-1]) + 213-365\n",
    "for y in np.median(Rt0_default, axis=0):\n",
    "    plt.plot(x, y, color='#67c6', lw=0.6)\n",
    "plt.plot(x, np.quantile(Rt0_default, [0.025, 0.25, 0.75, 0.975], axis=(0, 1)).T, color='black', lw=1.0, alpha=0.7)\n",
    "plt.plot(x, np.quantile(Rt0_default, [0.5], axis=(0, 1)).T, 'k', lw=1.5)\n",
    "#plt.plot(days, R0 * gamma_q_0, \"--\", lw=1.8, color=\"#777\")\n",
    "\n",
    "plt.title(\"Regional $\\\\tilde{R}_{l,t}$ (without NPI effects)\")#\\nwith median, 50\\\\% CI and 95\\\\% CI\")\n",
    "plt.ylabel(\"$\\\\tilde{R}_{l,t}$\")\n",
    "#plt.xticks([182-365, -90, 1, 91], [\"July 1\", \"Oct 1\", \"Jan 1\", \"April 1\"])\n",
    "plt.xticks([182-365, -90, 1], [\"Jul 1\", \"Oct 1\", \"Jan 1\"])\n",
    "plt.xlim(-183, 40)\n",
    "plt.ylim(0.5, 3.75)\n",
    "plt.savefig(f'figures/Fig_Rt0_modelSharma_dataSharma_default.pdf', bbox_inches='tight')"
   ]
  },
  {
   "cell_type": "code",
   "execution_count": null,
   "metadata": {},
   "outputs": [],
   "source": [
    "np.median(df1[df1.label==\"Combined\"].seasonality_beta1.values)"
   ]
  },
  {
   "cell_type": "code",
   "execution_count": null,
   "metadata": {},
   "outputs": [],
   "source": [
    "Rt0_seas = np.load(\"Rt0_seasonal.npz\")['arr_0']\n",
    "Rt0_seas.shape\n",
    "\n",
    "plt.close()\n",
    "plt.figure(figsize=(4, 4), dpi=150)\n",
    "\n",
    "days = np.arange(-365*0.5, 365*0.25, 1.0)\n",
    "gamma_q_0 = np.median(1.0 + df1[df1.label==\"Combined\"].seasonality_beta1.values * np.cos(2 * np.pi / 365.0 * (days.reshape((-1, 1)) + 1)), axis=1)\n",
    "R0s = np.median(Rt0_seas, axis=(0, 1)) / gamma_q_0[int(213-365-days[0]):][:Rt0_seas.shape[-1]]\n",
    "R0 = np.exp(np.mean(np.log(R0s)))\n",
    "\n",
    "x = np.arange(Rt0_seas.shape[-1]) + 213-365\n",
    "for y in np.median(Rt0_seas, axis=0):\n",
    "    plt.plot(x, y, color='#67c6', lw=0.6)\n",
    "plt.plot(x, np.quantile(Rt0_seas, [0.025, 0.25, 0.75, 0.975], axis=(0, 1)).T, color='black', lw=1.0, alpha=0.7)\n",
    "plt.plot(x, np.quantile(Rt0_seas, [0.5], axis=(0, 1)).T, 'k', lw=1.5)\n",
    "plt.plot(days, R0 * gamma_q_0, \"--\", lw=1.6, color=\"darkred\")\n",
    "\n",
    "plt.title(\"Regional $\\\\tilde{R}_{l,t}$ (without NPI effects, seasonal)\")#\\n(seasonality (red), median, 50\\\\% CI and 95\\\\% CI)\")\n",
    "plt.ylabel(\"$\\\\tilde{R}_{l,t}$\")\n",
    "plt.ylim(0.5, 3.75)\n",
    "#plt.xticks([182-365, -90, 1, 91], [\"July 1\", \"Oct 1\", \"Jan 1\", \"April 1\"])\n",
    "plt.xticks([182-365, -90, 1], [\"Jul 1\", \"Oct 1\", \"Jan 1\"])\n",
    "plt.xlim(-183, 40)\n",
    "plt.savefig(f'figures/Fig_Rt0_modelSharma_dataSharma_seasonal.pdf', bbox_inches='tight')"
   ]
  },
  {
   "cell_type": "code",
   "execution_count": null,
   "metadata": {},
   "outputs": [],
   "source": [
    "Rtw = np.load(\"Rt_walk_seasonal.npz\")['arr_0']\n",
    "plt.close()\n",
    "#plt.figure(figsize=(4, 4), dpi=150)\n",
    "fig1, ax1 = plt.subplots(figsize=(4, 4), dpi=150)\n",
    "\n",
    "plt.plot([-200, 200], [1, 1], color=\"#aaa\", lw=1.5)\n",
    "\n",
    "x = np.arange(Rtw.shape[-1]) + 213-365\n",
    "for y in np.median(Rtw, axis=0):\n",
    "    plt.plot(x, y, color='#67c6', lw=0.6)\n",
    "plt.plot(x, np.quantile(Rtw, [0.025, 0.25, 0.75, 0.975], axis=(0, 1)).T, color='black', lw=1.0, alpha=0.7)\n",
    "plt.plot(x, np.quantile(Rtw, [0.5], axis=(0, 1)).T, 'k', lw=1.5)\n",
    "\n",
    "plt.title(\"Regional random walk multipliers (seasonal)\")# with median, 50\\\\% CI, and 95\\\\% CI\")\n",
    "plt.ylabel(\"$N_{l,t}$ (log scale)\")\n",
    "#plt.xticks([-90, 1], [\"Oct 1\", \"Jan 1\"])\n",
    "plt.xticks([182-365, -90, 1], [\"Jul 1\", \"Oct 1\", \"Jan 1\"])\n",
    "plt.xlim(-183, 40)\n",
    "\n",
    "plt.ylim(0.45, 1/0.45)\n",
    "plt.yscale(\"log\")\n",
    "plt.yticks([0.5, 1.0, 2.0], [\"0.5\", \"1.0\", \"2.0\"])\n",
    "ax1.get_yaxis().set_minor_formatter(matplotlib.ticker.FixedFormatter(\"\"))\n",
    "plt.savefig(f'figures/Fig_random_walk_modelSharma_dataSharma_seasonal.pdf', bbox_inches='tight')\n",
    "None"
   ]
  },
  {
   "cell_type": "code",
   "execution_count": null,
   "metadata": {},
   "outputs": [],
   "source": [
    "Rtw = np.load(\"Rt_walk_default.npz\")['arr_0']\n",
    "plt.close()\n",
    "#plt.figure(figsize=(4, 4), dpi=150)\n",
    "fig1, ax1 = plt.subplots(figsize=(4, 4), dpi=150)\n",
    "\n",
    "plt.plot([-200, 200], [1, 1], color=\"#aaa\", lw=1.5)\n",
    "\n",
    "x = np.arange(Rtw.shape[-1]) + 213-365\n",
    "for y in np.median(Rtw, axis=0):\n",
    "    plt.plot(x, y, color='#67c5', lw=0.6)\n",
    "plt.plot(x, np.quantile(Rtw, [0.025, 0.25, 0.75, 0.975], axis=(0, 1)).T, color='black', lw=1.0, alpha=0.7)\n",
    "plt.plot(x, np.quantile(Rtw, [0.5], axis=(0, 1)).T, 'k', lw=1.5)\n",
    "\n",
    "plt.title(\"Regional random walk multipliers\")# with median, 50\\\\% CI, and 95\\\\% CI\")\n",
    "plt.ylabel(\"$N_{l,t}$ (log scale)\")\n",
    "\n",
    "\n",
    "plt.xticks([182-365, -90, 1], [\"Jul 1\", \"Oct 1\", \"Jan 1\"])\n",
    "plt.xlim(-183, 40)\n",
    "\n",
    "plt.ylim(0.45, 1/0.45)\n",
    "plt.yscale(\"log\")\n",
    "plt.yticks([0.5, 1.0, 2.0], [\"0.5\", \"1.0\", \"2.0\"])\n",
    "ax1.get_yaxis().set_minor_formatter(matplotlib.ticker.FixedFormatter(\"\"))\n",
    "plt.savefig(f'figures/Fig_random_walk_modelSharma_dataSharma_default.pdf', bbox_inches='tight')\n",
    "None"
   ]
  },
  {
   "cell_type": "code",
   "execution_count": null,
   "metadata": {},
   "outputs": [],
   "source": []
  }
 ],
 "metadata": {
  "kernelspec": {
   "name": "python38564bitvenv2bd3ec25091146a9b9b039214c452c48",
   "display_name": "Python 3.8.5 64-bit ('.venv': venv)"
  },
  "language_info": {
   "codemirror_mode": {
    "name": "ipython",
    "version": 3
   },
   "file_extension": ".py",
   "mimetype": "text/x-python",
   "name": "python",
   "nbconvert_exporter": "python",
   "pygments_lexer": "ipython3",
   "version": "3.8.5"
  },
  "pycharm": {
   "stem_cell": {
    "cell_type": "raw",
    "metadata": {
     "collapsed": false
    },
    "source": [
     "\n"
    ]
   }
  },
  "metadata": {
   "interpreter": {
    "hash": "ef9e9f1d800b87d525a5e31e0c3d09838a80d28ec5b6ccaf9b180bb4aae79988"
   }
  }
 },
 "nbformat": 4,
 "nbformat_minor": 4
}
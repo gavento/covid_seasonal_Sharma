{
 "cells": [
  {
   "cell_type": "code",
   "execution_count": null,
   "metadata": {},
   "outputs": [],
   "source": [
    "%load_ext autoreload\n",
    "%autoreload 2\n",
    "\n",
    "import sys\n",
    "sys.path.append(\"../../\") \n",
    "\n",
    "import os\n",
    "import yaml\n",
    "import numpy as np\n",
    "import textwrap\n",
    "import json\n",
    "\n",
    "import seaborn as sns\n",
    "import matplotlib.pyplot as plt\n",
    "plt.rcParams['pdf.fonttype'] = 42\n",
    "import matplotlib.gridspec as gridspec\n",
    "plt.rcParams[\"font.family\"] = \"Optima\"\n",
    "plt.rcParams[\"font.weight\"] = \"light\"\n",
    "\n",
    "import matplotlib.pyplot as plt\n",
    "import seaborn as sns\n",
    "%matplotlib inline\n",
    "import scipy.stats\n",
    "\n",
    "import arviz as az\n",
    "\n",
    "from epimodel import preprocess_data, run_model, EpidemiologicalParameters\n",
    "from epimodel.plotting.intervention_plots import combine_npi_samples"
   ]
  },
  {
   "cell_type": "code",
   "execution_count": null,
   "metadata": {},
   "outputs": [],
   "source": [
    "B_REGIONS = ['AL', 'AD', 'AT', 'BE', 'BA', 'BG', 'HR', 'CZ', 'DK', 'EE', 'FR', 'DE', 'GR', 'HU', 'IE', 'IT', 'LV', 'LT', 'MT', 'NL', 'PL', 'PT', 'RO', 'RS', 'SK', 'SI', 'ES', 'CH', 'GB']\n",
    "S_REGIONS = ['Austria', 'Czech', 'England', 'Germany', 'Italy', 'Netherlands', 'Switzerland']\n"
   ]
  },
  {
   "cell_type": "code",
   "execution_count": null,
   "metadata": {},
   "outputs": [],
   "source": [
    "def load_json(path, vars=(\"seasonality_beta1\", \"seasonality_max_R_day\")):\n",
    "    with open('../../'+fn) as f:\n",
    "        d = json.load(f)\n",
    "        d[\"MODEL\"] = re.search('model(.*)_', d['model_config_name']).groups()[0]\n",
    "        d[\"DATA\"] = re.search('data(.*)', d['model_config_name']).groups()[0]\n",
    "        d[\"LABEL\"] = f\"Seasonal {d['MODEL']} et al.\" #\\n{d['DATA']} data\" # NB: Change for 2x2 plots\n",
    "        if d['DATA'] == \"BraunerTE\":\n",
    "            d[\"LABEL\"] += \"\\n(temperate Europe)\"\n",
    "        print(f\"Loaded {d['MODEL']} model, {d['DATA']} data. Rhat: {d['rhat']}\")\n",
    "\n",
    "        cols = {v: np.array(d[v]) for v in vars}\n",
    "        cols[\"label\"] = d[\"LABEL\"]\n",
    "\n",
    "    return d, pd.DataFrame(cols)\n"
   ]
  },
  {
   "cell_type": "code",
   "execution_count": null,
   "metadata": {},
   "outputs": [],
   "source": [
    "for fn in [\n",
    "    \"sensitivity_final/modelBrauner_dataBraunerTE/seasonality_local/complex_seasonal_2021-06-27-214513_pid47284_summary.json\",\n",
    "    \"sensitivity_final/modelBrauner_dataBraunerTE/seasonality_local/complex_seasonal_2021-06-27-214413_pid46689_summary.json\",\n",
    "    \"sensitivity_final/modelBrauner_dataBraunerTE/seasonality_local/complex_seasonal_2021-06-27-214443_pid47122_summary.json\",\n",
    "    \"sensitivity_final/modelBrauner_dataBraunerTE/seasonality_local/complex_seasonal_2021-06-27-214543_pid47441_summary.json\",\n",
    "    \"sensitivity_final/modelBrauner_dataBraunerTE/seasonality_local/complex_seasonal_2021-06-27-214614_pid47588_summary.json\",\n",
    "]:\n",
    "    d, df0 = load_json(fn)\n",
    "    Rs = {\"BraunerTE\": B_REGIONS, \"Sharma\": S_REGIONS}[d['DATA']]\n",
    "    local_beta1 = np.array(d[\"seasonality_local_beta1\"])\n",
    "    print(local_beta1.shape)\n",
    "    dfs = []\n",
    "    for i, r in enumerate(Rs):\n",
    "        dfs.append(pd.DataFrame({\"Country\": r, \"Local gamma\": local_beta1[:,i]}))\n",
    "    dfs.sort(key=lambda df: df[\"Local gamma\"].mean())\n",
    "    dfs.append(pd.DataFrame({\"Country\": \"Base\\ngamma\", \"Local gamma\": np.array(d[\"seasonality_beta1\"])}))\n",
    "    df = pd.concat(dfs, axis=0, ignore_index=True)\n",
    "    print(df)\n",
    "    #sns.kdeplot(data=df, x=\"local_beta1\", hue=\"Country\", multiple=\"stack\")\n",
    "    plt.figure(figsize=(6,8))\n",
    "    sns.boxplot(data=df, x=\"Local gamma\", y=\"Country\", fliersize=0)\n",
    "    local_sd = d['exp_config']['local_seasonality_sd']\n",
    "    plt.title(f\"Local seasonal amplitudes, sd={local_sd:.2f}\")\n",
    "    plt.xlim(-0.2, 0.8)\n",
    "    sns.despine()\n",
    "    plt.savefig(f'figures/Fig_seasonality_local_{d[\"DATA\"]}_{local_sd:.2f}.pdf', bbox_inches='tight')\n"
   ]
  }
 ],
 "metadata": {
  "kernelspec": {
   "name": "python3",
   "display_name": "Python 3.8.5 64-bit ('.venv': venv)"
  },
  "language_info": {
   "codemirror_mode": {
    "name": "ipython",
    "version": 3
   },
   "file_extension": ".py",
   "mimetype": "text/x-python",
   "name": "python",
   "nbconvert_exporter": "python",
   "pygments_lexer": "ipython3",
   "version": "3.8.5"
  },
  "pycharm": {
   "stem_cell": {
    "cell_type": "raw",
    "metadata": {
     "collapsed": false
    },
    "source": [
     "\n"
    ]
   }
  },
  "metadata": {
   "interpreter": {
    "hash": "ef9e9f1d800b87d525a5e31e0c3d09838a80d28ec5b6ccaf9b180bb4aae79988"
   }
  },
  "interpreter": {
   "hash": "ef9e9f1d800b87d525a5e31e0c3d09838a80d28ec5b6ccaf9b180bb4aae79988"
  }
 },
 "nbformat": 4,
 "nbformat_minor": 4
}
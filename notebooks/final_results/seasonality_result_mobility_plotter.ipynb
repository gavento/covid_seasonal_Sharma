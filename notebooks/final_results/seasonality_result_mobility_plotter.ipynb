{
 "cells": [
  {
   "cell_type": "code",
   "execution_count": null,
   "metadata": {},
   "outputs": [],
   "source": [
    "%load_ext autoreload\n",
    "%autoreload 2\n",
    "\n",
    "import sys\n",
    "sys.path.append(\"../../\") \n",
    "\n",
    "import os\n",
    "import yaml\n",
    "import numpy as np\n",
    "import textwrap\n",
    "import json\n",
    "\n",
    "import seaborn as sns\n",
    "import matplotlib.pyplot as plt\n",
    "plt.rcParams['pdf.fonttype'] = 42\n",
    "import matplotlib.gridspec as gridspec\n",
    "plt.rcParams[\"font.family\"] = \"Optima\"\n",
    "plt.rcParams[\"font.weight\"] = \"light\"\n",
    "\n",
    "import matplotlib.pyplot as plt\n",
    "import seaborn as sns\n",
    "%matplotlib inline\n",
    "import scipy.stats\n",
    "\n",
    "import arviz as az\n",
    "\n",
    "from epimodel import preprocess_data, run_model, EpidemiologicalParameters\n",
    "from epimodel.plotting.intervention_plots import combine_npi_samples"
   ]
  },
  {
   "cell_type": "code",
   "execution_count": null,
   "metadata": {},
   "outputs": [],
   "source": [
    "def load_jsons(paths, vars=(\"seasonality_beta1\", \"seasonality_max_R_day\")):\n",
    "    traces = []\n",
    "    df = pd.DataFrame()\n",
    "    for fn in paths:\n",
    "        with open('../../'+fn) as f:\n",
    "            d = json.load(f)\n",
    "            d[\"MODEL\"] = re.search('model(.*)_', d['model_config_name']).groups()[0]\n",
    "            d[\"DATA\"] = re.search('data(.*)', d['model_config_name']).groups()[0]\n",
    "            d[\"LABEL\"] = f\"Seasonal {d['MODEL']} et al.\" #\\n{d['DATA']} data\" # NB: Change for 2x2 plots\n",
    "            if d['DATA'] == \"BraunerTE\":\n",
    "                d[\"LABEL\"] += \"\\n(temperate Europe)\"\n",
    "            print(f\"Loaded {d['MODEL']} model, {d['DATA']} data. Rhat: {d['rhat']}\")\n",
    "            traces.append(d)\n",
    "\n",
    "            cols = {v: np.array(d[v]) for v in vars}\n",
    "            cols[\"label\"] = d[\"LABEL\"]\n",
    "            cols[\"mobility\"] = str('mobility' in d[\"data_path\"])\n",
    "            cols[\"mobility_type\"] = re.search(\"mobility_(.*)\\.csv\", d[\"data_path\"]).groups()[0] if 'mobility' in d[\"data_path\"] else \"None\"\n",
    "            df = df.append(pd.DataFrame(cols), ignore_index=True)\n",
    "\n",
    "    for mob in df['mobility'].unique():\n",
    "        dx2 = df[df['mobility'] == mob]\n",
    "        dx2['label'] = \"Combined\"\n",
    "        df = df.append(dx2, ignore_index=True)\n",
    "    #cols = {v: np.array(df[v].values) for v in vars}\n",
    "    #cols[\"label\"] = \"Combined\"\n",
    "    #df = df.append(pd.DataFrame(cols), ignore_index=True)\n",
    "    return traces, df\n"
   ]
  },
  {
   "cell_type": "code",
   "execution_count": null,
   "metadata": {},
   "outputs": [],
   "source": [
    "beta1_SRC=[\n",
    "    \"sensitivity_final/default_cmodelSharma_dataSharma/seasonality_basic_R_prior/20210429-044743-70284_summary.json\",\n",
    "    \"sensitivity_final/modelBrauner_dataBraunerTE/seasonality_mobility/complex_seasonal_2021-06-25-223518_pid53529_summary.json\",\n",
    "    \"sensitivity_final/modelBrauner_dataBraunerTE/seasonality_mobility/complex_seasonal_2021-06-25-223548_pid53688_summary.json\",\n",
    "    \"sensitivity_final/modelBrauner_dataBraunerTE/seasonality_mobility/complex_seasonal_2021-06-25-223618_pid53905_summary.json\",\n",
    "    \"sensitivity_final/modelBrauner_dataBraunerTE/seasonality_basic_R_prior/complex_seasonal_2021-04-30-012232_pid18922_summary.json\",\n",
    "    ]\n",
    "\n",
    "traces, df1 = load_jsons(beta1_SRC)\n",
    "df1[\"gamma_percent\"] = 100*df1[\"seasonality_beta1\"]\n",
    "df1[\"Seasonality peak\"] = \"January 1\"\n",
    "df1.fillna(\"False\", inplace=True)\n",
    "print(df1[\"mobility\"].unique())\n",
    "\n",
    "for mt in ['RecreGrocTransWorkResid', 'GrocTransWorkResid', 'GrocTransWork']:\n",
    "    df2 = df1[(df1['mobility_type'] == 'None') | (df1['mobility_type'] == mt)]\n",
    "    sns.violinplot(y=\"label\", x=\"gamma_percent\", data=df2, linewidth=1.0, inner=\"quartiles\", split=True, hue=\"mobility\")\n",
    "    #plt.legend(shadow=False, fancybox=False, loc=\"upper right\", bbox_to_anchor=(0.99, 0.99), fontsize=6)\n",
    "    plt.title(f\"Sensitivity to mobility types {mt}\", fontsize=10)\n",
    "    plt.xlabel(\"Seasonality amplitude γ (with 50% CI)\")\n",
    "    plt.ylabel(None)\n",
    "    #plt.xticks([0, 10, 20, 30, 40, 50, 60, 70, 80], [\"0%\", \"\", \"20%\", \"\", \"40%\", \"\", \"60%\", \"\", \"80%\"])\n",
    "    plt.xticks([0, 20, 40, 60], [\"0%\", \"20%\", \"40%\", \"60%\"])\n",
    "    plt.savefig(f'figures/Fig_seasonality_mobility_{mt}.pdf', bbox_inches='tight')\n",
    "    plt.close()\n"
   ]
  },
  {
   "cell_type": "code",
   "execution_count": null,
   "metadata": {},
   "outputs": [],
   "source": []
  }
 ],
 "metadata": {
  "kernelspec": {
   "name": "python3",
   "display_name": "Python 3.8.5 64-bit ('.venv': venv)"
  },
  "language_info": {
   "codemirror_mode": {
    "name": "ipython",
    "version": 3
   },
   "file_extension": ".py",
   "mimetype": "text/x-python",
   "name": "python",
   "nbconvert_exporter": "python",
   "pygments_lexer": "ipython3",
   "version": "3.8.5"
  },
  "pycharm": {
   "stem_cell": {
    "cell_type": "raw",
    "metadata": {
     "collapsed": false
    },
    "source": [
     "\n"
    ]
   }
  },
  "metadata": {
   "interpreter": {
    "hash": "ef9e9f1d800b87d525a5e31e0c3d09838a80d28ec5b6ccaf9b180bb4aae79988"
   }
  },
  "interpreter": {
   "hash": "ef9e9f1d800b87d525a5e31e0c3d09838a80d28ec5b6ccaf9b180bb4aae79988"
  }
 },
 "nbformat": 4,
 "nbformat_minor": 4
}
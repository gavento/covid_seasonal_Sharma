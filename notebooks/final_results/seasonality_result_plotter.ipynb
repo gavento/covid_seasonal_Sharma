{
 "cells": [
  {
   "cell_type": "code",
   "execution_count": null,
   "metadata": {},
   "outputs": [],
   "source": [
    "%load_ext autoreload\n",
    "%autoreload 2\n",
    "\n",
    "import sys\n",
    "sys.path.append(\"../../\") \n",
    "\n",
    "import os\n",
    "import yaml\n",
    "import numpy as np\n",
    "import textwrap\n",
    "import json\n",
    "\n",
    "import seaborn as sns\n",
    "import matplotlib.pyplot as plt\n",
    "plt.rcParams['pdf.fonttype'] = 42\n",
    "import matplotlib.gridspec as gridspec\n",
    "plt.rcParams[\"font.family\"] = \"Optima\"\n",
    "plt.rcParams[\"font.weight\"] = \"light\"\n",
    "\n",
    "import matplotlib.pyplot as plt\n",
    "import seaborn as sns\n",
    "%matplotlib inline\n",
    "\n",
    "import arviz as az\n",
    "\n",
    "from epimodel import preprocess_data, run_model, EpidemiologicalParameters\n",
    "from epimodel.plotting.intervention_plots import combine_npi_samples"
   ]
  },
  {
   "cell_type": "code",
   "execution_count": null,
   "metadata": {},
   "outputs": [],
   "source": [
    "def load_jsons(paths, vars=(\"seasonality_beta1\", \"seasonality_max_R_day\")):\n",
    "    traces = []\n",
    "    df = pd.DataFrame()\n",
    "    for fn in paths:\n",
    "        with open('../../'+fn) as f:\n",
    "            d = json.load(f)\n",
    "            d[\"MODEL\"] = re.search('model(.*)_', d['model_config_name']).groups()[0]\n",
    "            d[\"DATA\"] = re.search('data(.*)', d['model_config_name']).groups()[0]\n",
    "            d[\"LABEL\"] = f\"{d['MODEL']} model\\n{d['DATA']} data\"\n",
    "            print(f\"Loaded {d['MODEL']} model, {d['DATA']} data. Rhat: {d['rhat']}\")\n",
    "            traces.append(d)\n",
    "\n",
    "            cols = {v: np.array(d[v]) for v in vars}\n",
    "            cols[\"label\"] = d[\"LABEL\"]\n",
    "            df = df.append(pd.DataFrame(cols), ignore_index=True)\n",
    "\n",
    "    cols = {v: np.array(df[v].values) for v in vars}\n",
    "    cols[\"label\"] = \"Combined\"\n",
    "    df = df.append(pd.DataFrame(cols), ignore_index=True)\n",
    "    return traces, df\n"
   ]
  },
  {
   "cell_type": "code",
   "execution_count": null,
   "metadata": {},
   "outputs": [],
   "source": [
    "beta1_SRC=[\n",
    "    \"sensitivity_final/modelSharma_dataSharma/seasonality_basic_R_prior/20210429-044743-70284_summary.json\",\n",
    "    \"sensitivity_final/modelBrauner_dataSharma/seasonality_basic_R_prior/complex_seasonal_2021-04-30-025219_pid22787_summary.json\",\n",
    "    \"sensitivity_final/modelSharma_dataBraunerTE/seasonality_basic_R_prior/20210430-084421-36555_summary.json\",\n",
    "    \"sensitivity_final/modelBrauner_dataBraunerTE/seasonality_basic_R_prior/complex_seasonal_2021-04-30-012232_pid18922_summary.json\",\n",
    "    ]\n",
    "\n",
    "traces, df1 = load_jsons(beta1_SRC)\n",
    "df1[\"top-to-trough\"] = 100*(1-(1-df1[\"seasonality_beta1\"]) / (1+df1[\"seasonality_beta1\"]))\n",
    "df1[\"Seasonality peak\"] = \"January 1\"\n",
    "\n",
    "sns.violinplot(y=\"label\", x=\"seasonality_beta1\", data=df1, width=1.1, linewidth=1.0, inner=\"quartiles\")\n",
    "#plt.legend(shadow=False, fancybox=False, loc=\"upper right\", bbox_to_anchor=(0.99, 0.99), fontsize=6)\n",
    "#plt.title(\"\", fontsize=10)\n",
    "plt.xlabel(\"Seasonality amplitude γ (with 50% CI)\")\n",
    "plt.ylabel(None)\n",
    "plt.savefig(f'figures/Fig_seasonality_gamma.pdf', bbox_inches='tight')\n",
    "plt.close()\n",
    "\n",
    "sns.violinplot(y=\"label\", x=\"top-to-trough\", data=df1, width=1.1, linewidth=1.0, inner=\"quartiles\")\n",
    "#plt.legend(shadow=False, fancybox=False, loc=\"upper right\", bbox_to_anchor=(0.99, 0.99), fontsize=6)\n",
    "#plt.title(\"\", fontsize=10)\n",
    "plt.xlabel(\"Seasonality peak-to-trough reduction (percent, with 50% CI)\")\n",
    "plt.ylabel(None)\n",
    "plt.savefig(f'figures/Fig_seasonality_extremes.pdf', bbox_inches='tight')"
   ]
  },
  {
   "cell_type": "code",
   "execution_count": null,
   "metadata": {},
   "outputs": [],
   "source": [
    "maxRday_SRC=[\n",
    "    \"sensitivity_final/modelSharma_dataSharma/seasonality_max_R_day_normal/20210429-044738-70161_summary.json\",\n",
    "    \"sensitivity_final/modelBrauner_dataSharma/seasonality_max_R_day_normal/complex_seasonal_2021-04-30-180604_pid56261_summary.json\",\n",
    "    \"sensitivity_final/modelSharma_dataBraunerTE/seasonality_max_R_day_normal/20210430-060658-29991_summary.json\",\n",
    "    \"sensitivity_final/modelBrauner_dataBraunerTE/seasonality_max_R_day_normal/complex_seasonal_2021-04-30-050100_pid27982_summary.json\",\n",
    "    ]\n",
    "\n",
    "traces, df2 = load_jsons(maxRday_SRC)\n",
    "#df2[\"seasonality_max_R_day_0\"] = df2[\"seasonality_max_R_day\"] - 1\n",
    "df2[\"Seasonality peak\"] = \"Inferred\"\n",
    "dfc = df1.append(df2,  ignore_index=True)\n",
    "\n",
    "sns.violinplot(y=\"label\", x=\"seasonality_max_R_day\", data=df2, width=1.1, linewidth=1.0, inner=\"quartiles\", cut=0.0)\n",
    "#plt.legend(shadow=False, fancybox=False, loc=\"upper right\", bbox_to_anchor=(0.99, 0.99), fontsize=6)\n",
    "#plt.title(\"\", fontsize=10)\n",
    "plt.xlabel(\"Inferred seasonality peak day (with 50% CI)\")\n",
    "plt.ylabel(None)\n",
    "plt.xticks([1-31-30, 1-31, 1+0, 1+31, 1+31+28], [\"Nov 1\", \"Dec 1\", \"Jan 1\", \"Feb 1\", \"Mar 1\"])\n",
    "plt.xlim((1-31-30-20, 1+31+28+20))\n",
    "plt.savefig(f'figures/Fig_seasonality_maxRday.pdf', bbox_inches='tight')\n",
    "plt.close()\n",
    "\n",
    "sns.violinplot(y=\"label\", x=\"seasonality_beta1\", data=dfc,  linewidth=1.0, hue=\"Seasonality peak\", split=True, inner=\"quartiles\", cut=0.0)\n",
    "#plt.legend(shadow=False, fancybox=False, loc=\"upper right\", bbox_to_anchor=(0.99, 0.99), fontsize=6)\n",
    "#plt.title(\"\", fontsize=10)\n",
    "plt.xlabel(\"Seasonal amplitude γ (with 50% CI)\")\n",
    "plt.ylabel(None)\n",
    "plt.savefig(f'figures/Fig_seasonality_gamma_with_maxRday.pdf', bbox_inches='tight')\n"
   ]
  },
  {
   "cell_type": "code",
   "execution_count": null,
   "metadata": {},
   "outputs": [],
   "source": []
  }
 ],
 "metadata": {
  "kernelspec": {
   "name": "python38564bitvenv2bd3ec25091146a9b9b039214c452c48",
   "display_name": "Python 3.8.5 64-bit ('.venv')"
  },
  "language_info": {
   "codemirror_mode": {
    "name": "ipython",
    "version": 3
   },
   "file_extension": ".py",
   "mimetype": "text/x-python",
   "name": "python",
   "nbconvert_exporter": "python",
   "pygments_lexer": "ipython3",
   "version": "3.8.5"
  },
  "pycharm": {
   "stem_cell": {
    "cell_type": "raw",
    "metadata": {
     "collapsed": false
    },
    "source": [
     "\n"
    ]
   }
  },
  "metadata": {
   "interpreter": {
    "hash": "ef9e9f1d800b87d525a5e31e0c3d09838a80d28ec5b6ccaf9b180bb4aae79988"
   }
  }
 },
 "nbformat": 4,
 "nbformat_minor": 4
}
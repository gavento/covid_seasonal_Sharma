{
 "cells": [
  {
   "cell_type": "code",
   "execution_count": null,
   "metadata": {},
   "outputs": [],
   "source": [
    "%load_ext autoreload\n",
    "%autoreload 2\n",
    "\n",
    "import sys\n",
    "sys.path.append(\"../../\") \n",
    "\n",
    "import os\n",
    "import yaml\n",
    "import numpy as np\n",
    "import textwrap\n",
    "import json\n",
    "\n",
    "import seaborn as sns\n",
    "import matplotlib.pyplot as plt\n",
    "plt.rcParams['pdf.fonttype'] = 42\n",
    "import matplotlib.gridspec as gridspec\n",
    "plt.rcParams[\"font.family\"] = \"Optima\"\n",
    "plt.rcParams[\"font.weight\"] = \"light\"\n",
    "\n",
    "import matplotlib.pyplot as plt\n",
    "import seaborn as sns\n",
    "%matplotlib inline\n",
    "\n",
    "import arviz as az\n",
    "\n",
    "from epimodel import preprocess_data, run_model, EpidemiologicalParameters\n",
    "from epimodel.plotting.intervention_plots import combine_npi_samples"
   ]
  },
  {
   "cell_type": "code",
   "execution_count": null,
   "metadata": {},
   "outputs": [],
   "source": [
    "def load_jsons(paths, vars=(\"seasonality_beta1\", \"seasonality_max_R_day\")):\n",
    "    traces = []\n",
    "    df = pd.DataFrame()\n",
    "    for fn in paths:\n",
    "        with open('../../'+fn) as f:\n",
    "            d = json.load(f)\n",
    "            d[\"MODEL\"] = re.search('model(.*)_', d['model_config_name']).groups()[0]\n",
    "            d[\"DATA\"] = re.search('data(.*)', d['model_config_name']).groups()[0]\n",
    "            d[\"LABEL\"] = f\"Seasonal {d['MODEL']} et al.\" #\\n{d['DATA']} data\" # NB: Change for 2x2 plots\n",
    "            if d['DATA'] == \"BraunerTE\":\n",
    "                d[\"LABEL\"] += \"\\n(temperate Europe)\"\n",
    "            print(f\"Loaded {d['MODEL']} model, {d['DATA']} data. Rhat: {d['rhat']}\")\n",
    "            traces.append(d)\n",
    "\n",
    "            cols = {v: np.array(d[v]) for v in vars}\n",
    "            cols[\"label\"] = d[\"LABEL\"]\n",
    "            df = df.append(pd.DataFrame(cols), ignore_index=True)\n",
    "\n",
    "    cols = {v: np.array(df[v].values) for v in vars}\n",
    "    cols[\"label\"] = \"Combined\"\n",
    "    df = df.append(pd.DataFrame(cols), ignore_index=True)\n",
    "    return traces, df\n"
   ]
  },
  {
   "cell_type": "code",
   "execution_count": null,
   "metadata": {},
   "outputs": [],
   "source": [
    "beta1_SRC=[\n",
    "    \"sensitivity_final/default_cmodelSharma_dataSharma/seasonality_basic_R_prior/20210429-044743-70284_summary.json\",\n",
    "    # NB: Change for 2x2 plots\n",
    "    #\"sensitivity_final/modelBrauner_dataSharma/seasonality_basic_R_prior/complex_seasonal_2021-04-30-025219_pid22787_summary.json\",\n",
    "    #\"sensitivity_final/default_cmodelSharma_dataBraunerTE/seasonality_basic_R_prior/20210430-084421-36555_summary.json\",\n",
    "    \"sensitivity_final/modelBrauner_dataBraunerTE/seasonality_basic_R_prior/complex_seasonal_2021-04-30-012232_pid18922_summary.json\",\n",
    "    ]\n",
    "\n",
    "traces, df1 = load_jsons(beta1_SRC)\n",
    "df1[\"top-to-trough\"] = 100*(1-(1-df1[\"seasonality_beta1\"]) / (1+df1[\"seasonality_beta1\"]))\n",
    "df1[\"gamma_percent\"] = 100*df1[\"seasonality_beta1\"]\n",
    "df1[\"Seasonality peak\"] = \"January 1\"\n",
    "\n",
    "sns.violinplot(y=\"label\", x=\"gamma_percent\", data=df1, linewidth=1.0, inner=\"quartiles\")\n",
    "#plt.legend(shadow=False, fancybox=False, loc=\"upper right\", bbox_to_anchor=(0.99, 0.99), fontsize=6)\n",
    "#plt.title(\"\", fontsize=10)\n",
    "plt.xlabel(\"Seasonality amplitude γ (with 50% CI)\")\n",
    "plt.ylabel(None)\n",
    "plt.xticks([0, 20, 40, 60, 80], [\"0%\", \"20%\", \"40%\", \"60%\", \"80%\"])\n",
    "#plt.xticks([0, 10, 20, 30, 40, 50, 60, 70, 80], [\"0%\", \"\", \"20%\", \"\", \"40%\", \"\", \"60%\", \"\", \"80%\"])\n",
    "plt.savefig(f'figures/Fig_seasonality_gamma.pdf', bbox_inches='tight')\n",
    "plt.close()\n",
    "\n",
    "sns.violinplot(y=\"label\", x=\"top-to-trough\", data=df1, linewidth=1.0, inner=\"quartiles\")\n",
    "#plt.legend(shadow=False, fancybox=False, loc=\"upper right\", bbox_to_anchor=(0.99, 0.99), fontsize=6)\n",
    "#plt.title(\"\", fontsize=10)\n",
    "plt.xlabel(\"Seasonality peak-to-trough reduction (with 50% CI)\")\n",
    "plt.ylabel(None)\n",
    "plt.xticks([0, 20, 40, 60, 80], [\"0%\", \"20%\", \"40%\", \"60%\", \"80%\"])\n",
    "plt.savefig(f'figures/Fig_seasonality_extremes.pdf', bbox_inches='tight')\n",
    "\n",
    "quants_gamma = df1.groupby('label').apply(lambda d: pd.Series(np.quantile(100 * d[\"seasonality_beta1\"], (0.5, 0.25, 0.75, 0.025, 0.975)), index=['Med', 'C1a', 'C1b', 'C2a', 'C2b']))\n",
    "quants_p2t = df1.groupby('label').apply(lambda d: pd.Series(np.quantile(100*(1-(1-d[\"seasonality_beta1\"])/(1+d[\"seasonality_beta1\"])), (0.5, 0.25, 0.75, 0.025, 0.975)), index=['Med', 'C1a', 'C1b', 'C2a', 'C2b']))\n",
    "\n",
    "for quants in [quants_gamma, quants_p2t]:\n",
    "    print(r\"\"\"\n",
    "\\begin{tabular}{l|r r r}\n",
    "\\textbf{Model} & \\textbf{Median} & \\textbf{50\\% CI} & \\textbf{95\\% CI}\\\\\n",
    "\\hline\n",
    "\"\"\" + '\\n'.join([f\"{l} & {d.Med:.1f} & {d.C1a:.1f} -- {d.C1b:.1f} & {d.C2a:.1f} -- {d.C2b:.1f} \\\\\\\\\" for l, d in reversed(list(quants.iterrows()))]) +\n",
    "    r\"\"\"\n",
    "\\end{tabular}\n",
    "\"\"\")\n"
   ]
  },
  {
   "cell_type": "code",
   "execution_count": null,
   "metadata": {},
   "outputs": [],
   "source": [
    "q=df1.groupby('label').apply(lambda d: pd.Series(100 * np.quantile(d[\"seasonality_beta1\"], (0.5, 0.25, 0.75, 0.025, 0.975)), index=['Med', 'C1a', 'C1b', 'C2a', 'C2b']))\n",
    "list(q.iterrows())"
   ]
  },
  {
   "cell_type": "code",
   "execution_count": null,
   "metadata": {},
   "outputs": [],
   "source": [
    "maxRday_SRC=[\n",
    "    \"sensitivity_final/default_cmodelSharma_dataSharma/seasonality_max_R_day_normal/20210429-044738-70161_summary.json\",\n",
    "    # NB: Change for 2x2 plots\n",
    "    #\"sensitivity_final/modelBrauner_dataSharma/seasonality_max_R_day_normal/complex_seasonal_2021-04-30-180604_pid56261_summary.json\",\n",
    "    #\"sensitivity_final/default_cmodelSharma_dataBraunerTE/seasonality_max_R_day_normal/20210430-060658-29991_summary.json\",\n",
    "    \"sensitivity_final/modelBrauner_dataBraunerTE/seasonality_max_R_day_normal/complex_seasonal_2021-04-30-050100_pid27982_summary.json\",\n",
    "    ]\n",
    "\n",
    "traces, df2 = load_jsons(maxRday_SRC)\n",
    "df2[\"gamma_percent\"] = 100*df2[\"seasonality_beta1\"]\n",
    "df2[\"Seasonality peak\"] = \"Inferred\"\n",
    "dfc = df1.append(df2,  ignore_index=True)\n",
    "\n",
    "sns.violinplot(y=\"label\", x=\"seasonality_max_R_day\", data=df2, linewidth=1.0, inner=\"quartiles\", cut=0.0)\n",
    "#plt.legend(shadow=False, fancybox=False, loc=\"upper right\", bbox_to_anchor=(0.99, 0.99), fontsize=6)\n",
    "#plt.title(\"\", fontsize=10)\n",
    "plt.xlabel(\"Inferred seasonality peak day (with 50% CI)\")\n",
    "plt.ylabel(None)\n",
    "plt.xticks([1-31-30, 1-31, 1+0, 1+31, 1+31+28], [\"Nov 1\", \"Dec 1\", \"Jan 1\", \"Feb 1\", \"Mar 1\"])\n",
    "plt.xlim((1-31-30-20, 1+31+28+20))\n",
    "plt.savefig(f'figures/Fig_seasonality_maxRday.pdf', bbox_inches='tight')\n",
    "plt.close()\n",
    "\n",
    "sns.violinplot(y=\"label\", x=\"gamma_percent\", data=dfc, linewidth=1.0, hue=\"Seasonality peak\", split=True, inner=\"quartiles\", cut=0.0)\n",
    "#plt.legend(shadow=False, fancybox=False, loc=\"upper right\", bbox_to_anchor=(0.99, 0.99), fontsize=6)\n",
    "#plt.title(\"\", fontsize=10)\n",
    "plt.xlabel(\"Seasonal amplitude γ (with 50% CI)\")\n",
    "plt.ylabel(None)\n",
    "plt.xticks([0, 20, 40, 60, 80], [\"0%\", \"20%\", \"40%\", \"60%\", \"80%\"])\n",
    "plt.savefig(f'figures/Fig_seasonality_gamma_with_maxRday.pdf', bbox_inches='tight')\n"
   ]
  },
  {
   "cell_type": "code",
   "execution_count": null,
   "metadata": {},
   "outputs": [],
   "source": [
    "df2b = df2[df2.label==\"Combined\"]\n",
    "#df2b.seasonality_beta1.values\n",
    "#df2b.seasonality_max_R_day.values\n",
    "days = np.arange(-365*0.25, 365*0.75, 0.5)\n",
    "gamma_samples = 1.0 + df2b.seasonality_beta1.values * np.cos(2 * np.pi / 365.0 * (days.reshape((-1, 1)) + df2b.seasonality_max_R_day.values))\n",
    "gamma_q = np.quantile(gamma_samples, (0.025, 0.25, 0.5, 0.75, 0.975), axis=1)\n",
    "\n",
    "for i in range(5):\n",
    "    plt.plot(days, gamma_q[i], \"k\", lw=1.2 if i==2 else 0.3)\n",
    "plt.fill_between(days, gamma_q[0], gamma_q[4], alpha=0.10, color=\"b\")\n",
    "plt.fill_between(days, gamma_q[1], gamma_q[3], alpha=0.10, color=\"b\")\n",
    "\n",
    "gamma_q_0 = np.median(1.0 + df1[df1.label==\"Combined\"].seasonality_beta1.values * np.cos(2 * np.pi / 365.0 * (days.reshape((-1, 1)) + 1)), axis=1)\n",
    "plt.plot(days, gamma_q_0, \"--\", lw=1.2, color=\"darkred\")\n",
    "\n",
    "plt.xlabel(\"Seasonal multiplier Γ(t) (with 50% and 95% CI)\")\n",
    "plt.ylabel(None)\n",
    "plt.xticks([-90, 1, 91, 182, 274], [\"Oct 1\", \"Jan 1\", \"April 1\", \"July 1\", \"Oct 1\"])\n",
    "plt.savefig(f'figures/Fig_seasonality_multiplier_with_maxRday.pdf', bbox_inches='tight')\n"
   ]
  },
  {
   "cell_type": "code",
   "execution_count": null,
   "metadata": {},
   "outputs": [],
   "source": [
    "plt.plot?"
   ]
  },
  {
   "cell_type": "code",
   "execution_count": null,
   "metadata": {},
   "outputs": [],
   "source": []
  }
 ],
 "metadata": {
  "kernelspec": {
   "name": "python38564bitvenv2bd3ec25091146a9b9b039214c452c48",
   "display_name": "Python 3.8.5 64-bit ('.venv')"
  },
  "language_info": {
   "codemirror_mode": {
    "name": "ipython",
    "version": 3
   },
   "file_extension": ".py",
   "mimetype": "text/x-python",
   "name": "python",
   "nbconvert_exporter": "python",
   "pygments_lexer": "ipython3",
   "version": "3.8.5"
  },
  "pycharm": {
   "stem_cell": {
    "cell_type": "raw",
    "metadata": {
     "collapsed": false
    },
    "source": [
     "\n"
    ]
   }
  },
  "metadata": {
   "interpreter": {
    "hash": "ef9e9f1d800b87d525a5e31e0c3d09838a80d28ec5b6ccaf9b180bb4aae79988"
   }
  }
 },
 "nbformat": 4,
 "nbformat_minor": 4
}